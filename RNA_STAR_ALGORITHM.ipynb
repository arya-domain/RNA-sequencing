{
 "cells": [
  {
   "attachments": {},
   "cell_type": "markdown",
   "metadata": {},
   "source": [
    "**DEVs Aryan Das & Rajul Matho**\n",
    "\n",
    "->  The following code was compiled in a UBUNTU OS along with Python.\n",
    "\n",
    "->  Create the following folder in the content folder of local drive-\n",
    "\n",
    "    \"bam\" | \"outputs\" | \"text\"\n",
    "\n",
    "->  System Requirments To Run Star ALigner -\n",
    " 1.   CPU - Intel i3 With 4 threads or equivalent\n",
    " 2.   Ram - 32GB (minimum)\n",
    "\n",
    "->  About The Dataset- \n",
    " *  30 pairs of normal and cancerous tissues from the same excision were collected which are PAIRED-END\n",
    " *  Accession -\tPRJNA762469 ; GEO: GSE183947\n",
    " *  In order to remove technical sequences, including adapters, polymerase chain reaction (PCR) primers, or fragments thereof, and quality\n",
    "    of bases lower than 20, pass filter data of fastq format were processed by Cutadapt (V1.9.1) to be high quality clean data."
   ]
  },
  {
   "cell_type": "code",
   "execution_count": null,
   "metadata": {},
   "outputs": [],
   "source": [
    "!pip install pysradb\n",
    "!pip install parallel-fastq-dump\n",
    "!sudo apt-get install rna-star\n",
    "!sudo apt-get install subread"
   ]
  },
  {
   "cell_type": "code",
   "execution_count": null,
   "metadata": {},
   "outputs": [],
   "source": [
    "# Getting the Metadata (Accession List)\n",
    "!pysradb metadata --detailed PRJNA762469"
   ]
  },
  {
   "cell_type": "code",
   "execution_count": null,
   "metadata": {},
   "outputs": [],
   "source": [
    "# Downloading data (SRA FILES)\n",
    "!pysradb download -y -p PRJNA762469 /mnt/d/PRJNA762469_files/"
   ]
  },
  {
   "attachments": {},
   "cell_type": "markdown",
   "metadata": {},
   "source": [
    "**Moving The SRA File From Individual Folder To Base Folder**"
   ]
  },
  {
   "cell_type": "code",
   "execution_count": null,
   "metadata": {},
   "outputs": [],
   "source": [
    "import os\n",
    "import shutil\n",
    "\n",
    "# Set the path to the base directory\n",
    "base_path = r\"/mnt/d/PRJNA762469_srafiles/\"\n",
    "\n",
    "# Iterate over the subdirectories and move the .sra files to the base directory\n",
    "for subdir in os.listdir(base_path):\n",
    "    subdir_path = os.path.join(base_path, subdir)\n",
    "    if os.path.isdir(subdir_path):\n",
    "        for file in os.listdir(subdir_path):\n",
    "            if file.endswith(\".sra\"):\n",
    "                src_path = os.path.join(subdir_path, file)\n",
    "                dst_path = os.path.join(base_path, file)\n",
    "                shutil.move(src_path, dst_path)"
   ]
  },
  {
   "attachments": {},
   "cell_type": "markdown",
   "metadata": {},
   "source": [
    "**Downloading Reference Genome Fasta and Annotation GTF files from Ensemble**"
   ]
  },
  {
   "cell_type": "code",
   "execution_count": null,
   "metadata": {},
   "outputs": [],
   "source": [
    "#Downloading GTF file only from ensembl\n",
    "!wget https://ftp.ensembl.org/pub/release-108/gtf/homo_sapiens/Homo_sapiens.GRCh38.108.gtf.gz\n",
    "!gzip -d Homo_sapiens.GRCh38.108.gtf.gz\n",
    "src_path = \"Homo_sapiens.GRCh38.108.gtf\"\n",
    "shutil.move(src_path, \"/mnt/d/STAR/\")\n",
    "\n",
    "#Downloading Fasta file only from ensembl\n",
    "!wget https://ftp.ensembl.org/pub/release-104/fasta/homo_sapiens/dna/Homo_sapiens.GRCh38.dna.primary_assembly.fa.gz\n",
    "!gzip -d Homo_sapiens.GRCh38.dna.primary_assembly.fa.gz\n",
    "src_path = \"Homo_sapiens.GRCh38.dna.primary_assembly.fa\"\n",
    "shutil.move(src_path, \"/mnt/d/STAR/\")"
   ]
  },
  {
   "cell_type": "code",
   "execution_count": null,
   "metadata": {},
   "outputs": [],
   "source": [
    "# Building STAR Index Using hg38 Genome Assembly -\n",
    "!STAR --runThreadN 4 \\\n",
    "     --runMode genomeGenerate \\\n",
    "     --genomeDir /mnt/d/STAR/genome \\\n",
    "     --genomeFastaFiles /mnt/d/STAR/Homo_sapiens.GRCh38.dna.primary_assembly.fa \\\n",
    "     --sjdbGTFfile /mnt/d/STAR/Homo_sapiens.GRCh38.108.gtf \\\n",
    "     --sjdbOverhang 100"
   ]
  },
  {
   "attachments": {},
   "cell_type": "markdown",
   "metadata": {},
   "source": [
    "**NOTE -** \n",
    "1. Only The BAM and FeatureCounts test files are being saved.\n",
    "2. To Save ALL the File REMOVE the \"rm\" Commands Accordingly.\n",
    "3. The following SRA files were already Trimmed using Cutadapt."
   ]
  },
  {
   "cell_type": "code",
   "execution_count": null,
   "metadata": {},
   "outputs": [],
   "source": [
    "%%bash\n",
    "SEQLIBS=(SRR15852393 SRR15852394 SRR15852395 SRR15852396 SRR15852397 SRR15852398 SRR15852399 SRR15852400 SRR15852401 SRR15852402 SRR15852403 SRR15852404 SRR15852405 SRR15852406 SRR15852407 SRR15852408 SRR15852409 SRR15852410 SRR15852411 SRR15852412 SRR15852413 SRR15852414 SRR15852415 SRR15852416 SRR15852417 SRR15852418 SRR15852419 SRR15852420 SRR15852421 SRR15852422 SRR15852423 SRR15852424 SRR15852425 SRR15852426 SRR15852427 SRR15852428 SRR15852429 SRR15852430 SRR15852431 SRR15852432 SRR15852433 SRR15852434 SRR15852435 SRR15852436 SRR15852437 SRR15852438 SRR15852439 SRR15852440 SRR15852441 SRR15852442 SRR15852443 SRR15852444 SRR15852445 SRR15852446 SRR15852447 SRR15852448 SRR15852449 SRR15852450 SRR15852451 SRR15852452)\n",
    "\n",
    "for seqlib in ${SEQLIBS[@]}; do\n",
    "    parallel-fastq-dump --threads 4 --split-files --outdir /mnt/d/PRJNA762469_srafiles/output --tmpdir tmpdir -s /mnt/d/PRJNA762469_srafiles/${seqlib}.sra\n",
    "    STAR --runThreadN 4 --runMode alignReads --genomeDir /mnt/d/STAR/genome --readFilesIn /mnt/d/PRJNA762469_srafiles/output/${seqlib}_1.fastq /mnt/d/PRJNA762469_srafiles/output/${seqlib}_2.fastq  --outFileNamePrefix /mnt/d/PRJNA762469_srafiles/bam/${seqlib} --outSAMtype BAM SortedByCoordinate \n",
    "    rm /mnt/d/PRJNA762469_srafiles/output/*.out\n",
    "    rm /mnt/d/PRJNA762469_srafiles/output/*.fastq\n",
    "    rm /mnt/d/PRJNA762469_srafiles/output/*.tab\n",
    "    featureCounts -p -t exon -g gene_id -a /mnt/d/STAR/Homo_sapiens.GRCh38.108.gtf -o /mnt/d/PRJNA762469_srafiles/text/${seqlib}_u.txt /mnt/d/PRJNA762469_srafiles/bam/${seqlib}Aligned.sortedByCoord.out.bam\n",
    "done "
   ]
  },
  {
   "cell_type": "code",
   "execution_count": null,
   "metadata": {},
   "outputs": [],
   "source": [
    "# Generating CSV FILE for ALL the RAW GENE COUNTS from the TEXT files\n",
    "import glob\n",
    "import pandas as pd\n",
    "\n",
    "vars = glob.glob('/mnt/d/PRJNA762469_srafiles/text/*.txt')\n",
    "\n",
    "vars = glob.glob('*_u.txt')\n",
    "raw2=[]\n",
    "df = pd.read_table(vars[0], header =1)\n",
    "df2 = pd.read_table(vars[1], header =1)\n",
    "raw = pd.concat([df,df2.iloc[:,-1]],axis=1)\n",
    "for i in range(len(vars)-2):\n",
    "    i +=2\n",
    "    v = pd.read_table(vars[i], header =1)\n",
    "    raw = pd.concat([raw,v.iloc[:,-1]],axis=1)\n",
    "\n",
    "raw.to_csv('RawCounts.csv', index=False)"
   ]
  },
  {
   "attachments": {},
   "cell_type": "markdown",
   "metadata": {},
   "source": [
    "**The \"RawCounts.csv\" was then imported in R to applly DEseq2 for Normalization. Check out the \"Deseq.R\".**"
   ]
  }
 ],
 "metadata": {
  "kernelspec": {
   "display_name": "Python 3",
   "language": "python",
   "name": "python3"
  },
  "language_info": {
   "codemirror_mode": {
    "name": "ipython",
    "version": 3
   },
   "file_extension": ".py",
   "mimetype": "text/x-python",
   "name": "python",
   "nbconvert_exporter": "python",
   "pygments_lexer": "ipython3",
   "version": "3.10.6"
  },
  "orig_nbformat": 4
 },
 "nbformat": 4,
 "nbformat_minor": 2
}
